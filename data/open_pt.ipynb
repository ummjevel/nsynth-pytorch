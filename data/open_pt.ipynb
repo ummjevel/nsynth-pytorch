{
 "cells": [
  {
   "cell_type": "code",
   "execution_count": null,
   "metadata": {},
   "outputs": [],
   "source": [
    "# /home/ubuntu/ardino/mjjeon/nsynth-pytorch/data/samples/sample_flute_mono_16000_WavenetAE.pt"
   ]
  },
  {
   "cell_type": "code",
   "execution_count": 2,
   "metadata": {},
   "outputs": [
    {
     "data": {
      "text/plain": [
       "torch.Size([472616])"
      ]
     },
     "execution_count": 2,
     "metadata": {},
     "output_type": "execute_result"
    }
   ],
   "source": [
    "import torch\n",
    "\n",
    "checkpoint = torch.load('/home/ubuntu/ardino/mjjeon/nsynth-pytorch/data/samples/sample_flute_mono_16000_WavenetAE.pt')\n",
    "checkpoint['generation'].shape"
   ]
  },
  {
   "cell_type": "code",
   "execution_count": null,
   "metadata": {},
   "outputs": [],
   "source": [
    "import torchaudio"
   ]
  },
  {
   "cell_type": "code",
   "execution_count": 7,
   "metadata": {},
   "outputs": [],
   "source": [
    "waveform2, sample_rate2 = torchaudio.load('/home/ubuntu/ardino/mjjeon/nsynth-pytorch/data/nsynth-test/audio/sample_flute_mono_16000.wav')"
   ]
  },
  {
   "cell_type": "code",
   "execution_count": 8,
   "metadata": {},
   "outputs": [
    {
     "data": {
      "text/plain": [
       "torch.Size([1, 472616])"
      ]
     },
     "execution_count": 8,
     "metadata": {},
     "output_type": "execute_result"
    }
   ],
   "source": [
    "waveform2.shape"
   ]
  },
  {
   "cell_type": "code",
   "execution_count": 10,
   "metadata": {},
   "outputs": [],
   "source": [
    "wav_data = checkpoint['generation'].unsqueeze(0)"
   ]
  },
  {
   "cell_type": "code",
   "execution_count": 11,
   "metadata": {},
   "outputs": [],
   "source": [
    "torchaudio.save(uri=\"/home/ubuntu/ardino/mjjeon/nsynth-pytorch/data/samples/sample_flute_mono_16000.wav\"\n",
    "                , src=wav_data, sample_rate=16000, format=\"wav\")"
   ]
  },
  {
   "cell_type": "code",
   "execution_count": null,
   "metadata": {},
   "outputs": [],
   "source": [
    "checkpoint = torch.load('/home/ubuntu/ardino/mjjeon/nsynth-pytorch/data/samples/sample_violin_mono_16000_WavenetAE.pt')\n",
    "wav_data = checkpoint['generation'].unsqueeze(0)\n",
    "torchaudio.save(uri=\"/home/ubuntu/ardino/mjjeon/nsynth-pytorch/data/samples/sample_violin_mono_16000.wav\"\n",
    "                , src=wav_data, sample_rate=16000, format=\"wav\")"
   ]
  }
 ],
 "metadata": {
  "kernelspec": {
   "display_name": "Python 3",
   "language": "python",
   "name": "python3"
  },
  "language_info": {
   "codemirror_mode": {
    "name": "ipython",
    "version": 3
   },
   "file_extension": ".py",
   "mimetype": "text/x-python",
   "name": "python",
   "nbconvert_exporter": "python",
   "pygments_lexer": "ipython3",
   "version": "3.8.10"
  }
 },
 "nbformat": 4,
 "nbformat_minor": 2
}
