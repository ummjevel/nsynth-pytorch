{
 "cells": [
  {
   "cell_type": "markdown",
   "metadata": {},
   "source": [
    "## remove wavs, labels from data"
   ]
  },
  {
   "cell_type": "code",
   "execution_count": null,
   "metadata": {},
   "outputs": [],
   "source": [
    "# remove without\n",
    "\n",
    "# Flute : 2202.wav, 2203.wav, 2204.wav\n",
    "# Violin : 2241.wav, 2242.wav, 2243.wav, 2244.wav, 2288.wav, 2289.wav"
   ]
  },
  {
   "cell_type": "code",
   "execution_count": 2,
   "metadata": {},
   "outputs": [
    {
     "name": "stderr",
     "output_type": "stream",
     "text": [
      "100%|██████████| 330/330 [00:00<00:00, 61017.47it/s]"
     ]
    },
    {
     "name": "stdout",
     "output_type": "stream",
     "text": [
      "/home/ubuntu/ardino/mjjeon/nsynth-pytorch/data/musicnet/train_labels/2204.csv is remained...\n",
      "/home/ubuntu/ardino/mjjeon/nsynth-pytorch/data/musicnet/train_labels/2288.csv is remained...\n",
      "/home/ubuntu/ardino/mjjeon/nsynth-pytorch/data/musicnet/train_labels/2243.csv is remained...\n",
      "/home/ubuntu/ardino/mjjeon/nsynth-pytorch/data/musicnet/train_labels/2203.csv is remained...\n",
      "/home/ubuntu/ardino/mjjeon/nsynth-pytorch/data/musicnet/train_labels/2244.csv is remained...\n",
      "/home/ubuntu/ardino/mjjeon/nsynth-pytorch/data/musicnet/train_labels/2289.csv is remained...\n",
      "/home/ubuntu/ardino/mjjeon/nsynth-pytorch/data/musicnet/train_labels/2242.csv is remained...\n",
      "/home/ubuntu/ardino/mjjeon/nsynth-pytorch/data/musicnet/train_labels/2241.csv is remained...\n",
      "/home/ubuntu/ardino/mjjeon/nsynth-pytorch/data/musicnet/train_labels/2202.csv is remained...\n"
     ]
    },
    {
     "name": "stderr",
     "output_type": "stream",
     "text": [
      "\n"
     ]
    }
   ],
   "source": [
    "import os\n",
    "from glob import glob\n",
    "from tqdm import tqdm\n",
    "\n",
    "save_files = ['2202.csv', '2203.csv', '2204.csv', '2241.csv', '2242.csv', '2243.csv', '2244.csv', '2288.csv', '2289.csv']\n",
    "\n",
    "for f in tqdm(glob('/home/ubuntu/ardino/mjjeon/nsynth-pytorch/data/musicnet/*_labels/*.csv')):\n",
    "    if os.path.basename(f) in save_files:\n",
    "        print(f, 'is remained...')\n",
    "    else:\n",
    "        os.remove(f)\n",
    "        \n",
    "    "
   ]
  },
  {
   "cell_type": "markdown",
   "metadata": {},
   "source": [
    "# train"
   ]
  },
  {
   "cell_type": "code",
   "execution_count": 17,
   "metadata": {},
   "outputs": [
    {
     "name": "stdout",
     "output_type": "stream",
     "text": [
      "/home/ubuntu/ardino/mjjeon/nsynth-pytorch/nsynth\n"
     ]
    }
   ],
   "source": [
    "%cd /home/ubuntu/ardino/mjjeon/nsynth-pytorch/nsynth/"
   ]
  },
  {
   "cell_type": "code",
   "execution_count": null,
   "metadata": {},
   "outputs": [],
   "source": [
    "!pip install seaborn"
   ]
  },
  {
   "cell_type": "code",
   "execution_count": 27,
   "metadata": {},
   "outputs": [
    {
     "name": "stdout",
     "output_type": "stream",
     "text": [
      "/home/ubuntu/ardino/mjjeon/nsynth-pytorch/data/nsynth-train/audio/2204.wav: number of channels = (5839488,), sample_rate = 44100\n",
      "/home/ubuntu/ardino/mjjeon/nsynth-pytorch/data/nsynth-train/audio/2289.wav: number of channels = (8968320,), sample_rate = 44100\n",
      "/home/ubuntu/ardino/mjjeon/nsynth-pytorch/data/nsynth-train/audio/2288.wav: number of channels = (8455680,), sample_rate = 44100\n",
      "/home/ubuntu/ardino/mjjeon/nsynth-pytorch/data/nsynth-train/audio/2202.wav: number of channels = (7991424,), sample_rate = 44100\n",
      "/home/ubuntu/ardino/mjjeon/nsynth-pytorch/data/nsynth-train/audio/2242.wav: number of channels = (13791744,), sample_rate = 44100\n",
      "/home/ubuntu/ardino/mjjeon/nsynth-pytorch/data/nsynth-train/audio/2243.wav: number of channels = (8553600,), sample_rate = 44100\n",
      "/home/ubuntu/ardino/mjjeon/nsynth-pytorch/data/nsynth-train/audio/2244.wav: number of channels = (9453312,), sample_rate = 44100\n",
      "/home/ubuntu/ardino/mjjeon/nsynth-pytorch/data/nsynth-train/audio/2203.wav: number of channels = (6887808,), sample_rate = 44100\n",
      "/home/ubuntu/ardino/mjjeon/nsynth-pytorch/data/nsynth-train/audio/2241.wav: number of channels = (10681344,), sample_rate = 44100\n",
      "/home/ubuntu/ardino/mjjeon/nsynth-pytorch/data/nsynth-test/audio/sample_flute.wav: number of channels = (1302646, 2), sample_rate = 44100\n",
      "/home/ubuntu/ardino/mjjeon/nsynth-pytorch/data/nsynth-test/audio/sample_violin.wav: number of channels = (1302646, 2), sample_rate = 44100\n"
     ]
    },
    {
     "name": "stderr",
     "output_type": "stream",
     "text": [
      "/tmp/ipykernel_779242/2755773536.py:9: WavFileWarning: Chunk (non-data) not understood, skipping it.\n",
      "  sample_rate, data = wavfile.read(file)\n"
     ]
    }
   ],
   "source": [
    "from scipy.io import wavfile\n",
    "import scipy.io\n",
    "from glob import glob\n",
    "\n",
    "file_list = glob('/home/ubuntu/ardino/mjjeon/nsynth-pytorch/data/nsynth-train/audio/*.wav') \\\n",
    "            + glob('/home/ubuntu/ardino/mjjeon/nsynth-pytorch/data/nsynth-test/audio/*.wav')\n",
    "\n",
    "\n",
    "\n",
    "for file in file_list:\n",
    "    sample_rate, data = wavfile.read(file)\n",
    "    \n",
    "    print(f\"{file}: number of channels = {data.shape}, sample_rate = {sample_rate}\")"
   ]
  },
  {
   "cell_type": "markdown",
   "metadata": {},
   "source": [
    "stereo to mono"
   ]
  },
  {
   "cell_type": "code",
   "execution_count": 40,
   "metadata": {},
   "outputs": [
    {
     "name": "stdout",
     "output_type": "stream",
     "text": [
      "Collecting pydub\n",
      "  Downloading pydub-0.25.1-py2.py3-none-any.whl (32 kB)\n",
      "Installing collected packages: pydub\n",
      "Successfully installed pydub-0.25.1\n"
     ]
    }
   ],
   "source": [
    "!pip install pydub"
   ]
  },
  {
   "cell_type": "code",
   "execution_count": 42,
   "metadata": {},
   "outputs": [],
   "source": [
    "from pydub import AudioSegment\n",
    "\n",
    "for f in glob('/home/ubuntu/ardino/mjjeon/nsynth-pytorch/data/nsynth-test/audio/*.wav'):\n",
    "    sound = AudioSegment.from_wav(f)\n",
    "    sound = sound.set_channels(1)\n",
    "    sound.export(f.split('.')[0] + '_mono.wav', format=\"wav\")"
   ]
  },
  {
   "cell_type": "markdown",
   "metadata": {},
   "source": [
    "make examples.json"
   ]
  },
  {
   "cell_type": "code",
   "execution_count": 36,
   "metadata": {},
   "outputs": [
    {
     "name": "stdout",
     "output_type": "stream",
     "text": [
      "/home/ubuntu/ardino/mjjeon/nsynth-pytorch/data/nsynth-train/audio/2204.wav: number of channels = (5839488,), sample_rate = 44100\n",
      "/home/ubuntu/ardino/mjjeon/nsynth-pytorch/data/nsynth-train/audio/2289.wav: number of channels = (8968320,), sample_rate = 44100\n",
      "/home/ubuntu/ardino/mjjeon/nsynth-pytorch/data/nsynth-train/audio/2288.wav: number of channels = (8455680,), sample_rate = 44100\n",
      "/home/ubuntu/ardino/mjjeon/nsynth-pytorch/data/nsynth-train/audio/2202.wav: number of channels = (7991424,), sample_rate = 44100\n",
      "/home/ubuntu/ardino/mjjeon/nsynth-pytorch/data/nsynth-train/audio/2242.wav: number of channels = (13791744,), sample_rate = 44100\n",
      "/home/ubuntu/ardino/mjjeon/nsynth-pytorch/data/nsynth-train/audio/2243.wav: number of channels = (8553600,), sample_rate = 44100\n",
      "/home/ubuntu/ardino/mjjeon/nsynth-pytorch/data/nsynth-train/audio/2244.wav: number of channels = (9453312,), sample_rate = 44100\n",
      "/home/ubuntu/ardino/mjjeon/nsynth-pytorch/data/nsynth-train/audio/2203.wav: number of channels = (6887808,), sample_rate = 44100\n",
      "/home/ubuntu/ardino/mjjeon/nsynth-pytorch/data/nsynth-train/audio/2241.wav: number of channels = (10681344,), sample_rate = 44100\n"
     ]
    }
   ],
   "source": [
    "import os\n",
    "import json\n",
    "\n",
    "file_list = glob('/home/ubuntu/ardino/mjjeon/nsynth-pytorch/data/nsynth-train/audio/*.wav')  \n",
    "            \n",
    "dict_list = {}\n",
    "\n",
    "for file in file_list:\n",
    "    sample_rate, data = wavfile.read(file)\n",
    "    \n",
    "    dict_list[os.path.basename(file).split('.')[0]] = {\"sample_rate\" : sample_rate}\n",
    "    \n",
    "    print(f\"{file}: number of channels = {data.shape}, sample_rate = {sample_rate}\")\n",
    "    \n",
    "json_object = json.dumps(dict_list, indent=4)\n",
    "\n",
    "with open('/home/ubuntu/ardino/mjjeon/nsynth-pytorch/data/nsynth-train/examples.json', 'w') as outfile:\n",
    "    outfile.write(json_object)\n",
    "    "
   ]
  },
  {
   "cell_type": "code",
   "execution_count": 43,
   "metadata": {},
   "outputs": [
    {
     "name": "stdout",
     "output_type": "stream",
     "text": [
      "/home/ubuntu/ardino/mjjeon/nsynth-pytorch/data/nsynth-test/audio/sample_flute_mono.wav: number of channels = (1302646,), sample_rate = 44100\n",
      "/home/ubuntu/ardino/mjjeon/nsynth-pytorch/data/nsynth-test/audio/sample_violin_mono.wav: number of channels = (1302646,), sample_rate = 44100\n"
     ]
    }
   ],
   "source": [
    "import os\n",
    "import json\n",
    "\n",
    "file_list = glob('/home/ubuntu/ardino/mjjeon/nsynth-pytorch/data/nsynth-test/audio/*_mono.wav')  \n",
    "            \n",
    "dict_list = {}\n",
    "\n",
    "for file in file_list:\n",
    "    sample_rate, data = wavfile.read(file)\n",
    "    \n",
    "    dict_list[os.path.basename(file).split('.')[0]] = {\"sample_rate\" : sample_rate}\n",
    "    \n",
    "    print(f\"{file}: number of channels = {data.shape}, sample_rate = {sample_rate}\")\n",
    "    \n",
    "json_object = json.dumps(dict_list, indent=4)\n",
    "\n",
    "with open('/home/ubuntu/ardino/mjjeon/nsynth-pytorch/data/nsynth-test/examples.json', 'w') as outfile:\n",
    "    outfile.write(json_object)\n",
    "    "
   ]
  },
  {
   "cell_type": "markdown",
   "metadata": {},
   "source": [
    "sample rate 변경"
   ]
  },
  {
   "cell_type": "code",
   "execution_count": 14,
   "metadata": {},
   "outputs": [
    {
     "name": "stdout",
     "output_type": "stream",
     "text": [
      "Requirement already satisfied: soundfile in /home/ubuntu/.local/lib/python3.8/site-packages (0.12.1)\n",
      "Requirement already satisfied: cffi>=1.0 in /home/ubuntu/.local/lib/python3.8/site-packages (from soundfile) (1.16.0)\n",
      "Requirement already satisfied: pycparser in /home/ubuntu/.local/lib/python3.8/site-packages (from cffi>=1.0->soundfile) (2.21)\n"
     ]
    }
   ],
   "source": [
    "!pip install soundfile"
   ]
  },
  {
   "cell_type": "code",
   "execution_count": null,
   "metadata": {},
   "outputs": [],
   "source": [
    "import librosa, soundfile\n",
    "\n",
    "def down_sample(input_wav, origin_sr, resample_sr, ouput_wav):\n",
    "    y, sr = librosa.load(input_wav, sr=origin_sr)\n",
    "    resample = librosa.resample(y=y, orig_sr=sr, target_sr=resample_sr)\n",
    "    \n",
    "    soundfile.write(ouput_wav, \n",
    "                resample, \n",
    "                resample_sr, \n",
    "                format='WAV')\n",
    "    print(\"original wav sr: {}, original wav shape: {}, resample wav sr: {}, resmaple shape: {}\".format(origin_sr, y.shape, resample_sr, resample.shape))"
   ]
  },
  {
   "cell_type": "code",
   "execution_count": null,
   "metadata": {},
   "outputs": [
    {
     "name": "stdout",
     "output_type": "stream",
     "text": [
      "original wav sr: 44100, original wav shape: (1302646,), resample wav sr: 16000, resmaple shape: (472616,)\n",
      "original wav sr: 44100, original wav shape: (1302646,), resample wav sr: 16000, resmaple shape: (472616,)\n"
     ]
    }
   ],
   "source": [
    "down_sample('/home/ubuntu/ardino/mjjeon/nsynth-pytorch/data/nsynth-test/audio/sample_flute_mono.wav',\n",
    "            44100, 16000, \n",
    "            '/home/ubuntu/ardino/mjjeon/nsynth-pytorch/data/nsynth-test/audio/sample_flute_mono_16000.wav')\n",
    "\n",
    "down_sample('/home/ubuntu/ardino/mjjeon/nsynth-pytorch/data/nsynth-test/audio/sample_violin_mono.wav',\n",
    "            44100, 16000, \n",
    "            '/home/ubuntu/ardino/mjjeon/nsynth-pytorch/data/nsynth-test/audio/sample_violin_mono_16000.wav')"
   ]
  },
  {
   "cell_type": "markdown",
   "metadata": {},
   "source": [
    "nohup 으로 백그라운드 실행"
   ]
  },
  {
   "cell_type": "code",
   "execution_count": null,
   "metadata": {},
   "outputs": [],
   "source": [
    "# nohup python /home/ubuntu/ardino/mjjeon/nsynth-pytorch/train.py --gpu 0 --datadir /home/ubuntu/ardino/mjjeon/nsynth-pytorch/data --nbatch=16 --vae --board > nohup3_vae.out"
   ]
  },
  {
   "cell_type": "markdown",
   "metadata": {},
   "source": [
    "# Inference"
   ]
  },
  {
   "cell_type": "code",
   "execution_count": 12,
   "metadata": {},
   "outputs": [
    {
     "name": "stdout",
     "output_type": "stream",
     "text": [
      "make model before\n",
      "\n",
      "make model after\n",
      "\n",
      "load model after\n",
      "\n",
      "generate before\n",
      "\n",
      "before decoder conds\n",
      "after decoder conds\n",
      "100%|███████████████████████████████████████| 1535/1535 [00:17<00:00, 86.70it/s]\n",
      "100%|█████████████████████████████████| 471080/471080 [1:39:04<00:00, 79.25it/s]\n",
      "after decoder generate\n",
      "generate after\n",
      "\n",
      "\u001b[0m"
     ]
    }
   ],
   "source": [
    "!python /home/ubuntu/ardino/mjjeon/nsynth-pytorch/sample.py --weights '/home/ubuntu/ardino/mjjeon/nsynth-pytorch/models/231112_023600_WavenetVAE.pt' \\\n",
    "                    --sample '/home/ubuntu/ardino/mjjeon/nsynth-pytorch/data/nsynth-test/audio/sample_flute_mono_16000.wav' \\\n",
    "                        --gpu 0"
   ]
  },
  {
   "cell_type": "code",
   "execution_count": 13,
   "metadata": {},
   "outputs": [
    {
     "name": "stdout",
     "output_type": "stream",
     "text": [
      "make model before\n",
      "\n",
      "make model after\n",
      "\n",
      "load model after\n",
      "\n",
      "generate before\n",
      "\n",
      "before decoder conds\n",
      "after decoder conds\n",
      "100%|███████████████████████████████████████| 1535/1535 [00:18<00:00, 81.29it/s]\n",
      "100%|█████████████████████████████████| 471080/471080 [1:41:09<00:00, 77.61it/s]\n",
      "after decoder generate\n",
      "generate after\n",
      "\n",
      "\u001b[0m"
     ]
    }
   ],
   "source": [
    "!python /home/ubuntu/ardino/mjjeon/nsynth-pytorch/sample.py --weights '/home/ubuntu/ardino/mjjeon/nsynth-pytorch/models/231112_023600_WavenetVAE.pt' \\\n",
    "                    --sample '/home/ubuntu/ardino/mjjeon/nsynth-pytorch/data/nsynth-test/audio/sample_violin_mono_16000.wav' \\\n",
    "                        --gpu 0"
   ]
  }
 ],
 "metadata": {
  "kernelspec": {
   "display_name": "Python 3",
   "language": "python",
   "name": "python3"
  },
  "language_info": {
   "codemirror_mode": {
    "name": "ipython",
    "version": 3
   },
   "file_extension": ".py",
   "mimetype": "text/x-python",
   "name": "python",
   "nbconvert_exporter": "python",
   "pygments_lexer": "ipython3",
   "version": "3.8.10"
  }
 },
 "nbformat": 4,
 "nbformat_minor": 2
}
