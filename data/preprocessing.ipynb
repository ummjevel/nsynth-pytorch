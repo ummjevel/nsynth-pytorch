{
 "cells": [
  {
   "cell_type": "markdown",
   "metadata": {},
   "source": [
    "## remove wavs, labels from data"
   ]
  },
  {
   "cell_type": "code",
   "execution_count": null,
   "metadata": {},
   "outputs": [],
   "source": [
    "# remove without\n",
    "\n",
    "# Flute : 2202.wav, 2203.wav, 2204.wav\n",
    "# Violin : 2241.wav, 2242.wav, 2243.wav, 2244.wav, 2288.wav, 2289.wav"
   ]
  },
  {
   "cell_type": "code",
   "execution_count": 2,
   "metadata": {},
   "outputs": [
    {
     "name": "stderr",
     "output_type": "stream",
     "text": [
      "100%|██████████| 330/330 [00:00<00:00, 61017.47it/s]"
     ]
    },
    {
     "name": "stdout",
     "output_type": "stream",
     "text": [
      "/home/ubuntu/ardino/mjjeon/nsynth-pytorch/data/musicnet/train_labels/2204.csv is remained...\n",
      "/home/ubuntu/ardino/mjjeon/nsynth-pytorch/data/musicnet/train_labels/2288.csv is remained...\n",
      "/home/ubuntu/ardino/mjjeon/nsynth-pytorch/data/musicnet/train_labels/2243.csv is remained...\n",
      "/home/ubuntu/ardino/mjjeon/nsynth-pytorch/data/musicnet/train_labels/2203.csv is remained...\n",
      "/home/ubuntu/ardino/mjjeon/nsynth-pytorch/data/musicnet/train_labels/2244.csv is remained...\n",
      "/home/ubuntu/ardino/mjjeon/nsynth-pytorch/data/musicnet/train_labels/2289.csv is remained...\n",
      "/home/ubuntu/ardino/mjjeon/nsynth-pytorch/data/musicnet/train_labels/2242.csv is remained...\n",
      "/home/ubuntu/ardino/mjjeon/nsynth-pytorch/data/musicnet/train_labels/2241.csv is remained...\n",
      "/home/ubuntu/ardino/mjjeon/nsynth-pytorch/data/musicnet/train_labels/2202.csv is remained...\n"
     ]
    },
    {
     "name": "stderr",
     "output_type": "stream",
     "text": [
      "\n"
     ]
    }
   ],
   "source": [
    "import os\n",
    "from glob import glob\n",
    "from tqdm import tqdm\n",
    "\n",
    "save_files = ['2202.csv', '2203.csv', '2204.csv', '2241.csv', '2242.csv', '2243.csv', '2244.csv', '2288.csv', '2289.csv']\n",
    "\n",
    "for f in tqdm(glob('/home/ubuntu/ardino/mjjeon/nsynth-pytorch/data/musicnet/*_labels/*.csv')):\n",
    "    if os.path.basename(f) in save_files:\n",
    "        print(f, 'is remained...')\n",
    "    else:\n",
    "        os.remove(f)\n",
    "        \n",
    "    "
   ]
  },
  {
   "cell_type": "markdown",
   "metadata": {},
   "source": [
    "# train"
   ]
  },
  {
   "cell_type": "code",
   "execution_count": 17,
   "metadata": {},
   "outputs": [
    {
     "name": "stdout",
     "output_type": "stream",
     "text": [
      "/home/ubuntu/ardino/mjjeon/nsynth-pytorch/nsynth\n"
     ]
    }
   ],
   "source": [
    "%cd /home/ubuntu/ardino/mjjeon/nsynth-pytorch/nsynth/"
   ]
  },
  {
   "cell_type": "code",
   "execution_count": null,
   "metadata": {},
   "outputs": [],
   "source": [
    "!pip install seaborn"
   ]
  },
  {
   "cell_type": "code",
   "execution_count": 27,
   "metadata": {},
   "outputs": [
    {
     "name": "stdout",
     "output_type": "stream",
     "text": [
      "/home/ubuntu/ardino/mjjeon/nsynth-pytorch/data/nsynth-train/audio/2204.wav: number of channels = (5839488,), sample_rate = 44100\n",
      "/home/ubuntu/ardino/mjjeon/nsynth-pytorch/data/nsynth-train/audio/2289.wav: number of channels = (8968320,), sample_rate = 44100\n",
      "/home/ubuntu/ardino/mjjeon/nsynth-pytorch/data/nsynth-train/audio/2288.wav: number of channels = (8455680,), sample_rate = 44100\n",
      "/home/ubuntu/ardino/mjjeon/nsynth-pytorch/data/nsynth-train/audio/2202.wav: number of channels = (7991424,), sample_rate = 44100\n",
      "/home/ubuntu/ardino/mjjeon/nsynth-pytorch/data/nsynth-train/audio/2242.wav: number of channels = (13791744,), sample_rate = 44100\n",
      "/home/ubuntu/ardino/mjjeon/nsynth-pytorch/data/nsynth-train/audio/2243.wav: number of channels = (8553600,), sample_rate = 44100\n",
      "/home/ubuntu/ardino/mjjeon/nsynth-pytorch/data/nsynth-train/audio/2244.wav: number of channels = (9453312,), sample_rate = 44100\n",
      "/home/ubuntu/ardino/mjjeon/nsynth-pytorch/data/nsynth-train/audio/2203.wav: number of channels = (6887808,), sample_rate = 44100\n",
      "/home/ubuntu/ardino/mjjeon/nsynth-pytorch/data/nsynth-train/audio/2241.wav: number of channels = (10681344,), sample_rate = 44100\n",
      "/home/ubuntu/ardino/mjjeon/nsynth-pytorch/data/nsynth-test/audio/sample_flute.wav: number of channels = (1302646, 2), sample_rate = 44100\n",
      "/home/ubuntu/ardino/mjjeon/nsynth-pytorch/data/nsynth-test/audio/sample_violin.wav: number of channels = (1302646, 2), sample_rate = 44100\n"
     ]
    },
    {
     "name": "stderr",
     "output_type": "stream",
     "text": [
      "/tmp/ipykernel_779242/2755773536.py:9: WavFileWarning: Chunk (non-data) not understood, skipping it.\n",
      "  sample_rate, data = wavfile.read(file)\n"
     ]
    }
   ],
   "source": [
    "from scipy.io import wavfile\n",
    "import scipy.io\n",
    "from glob import glob\n",
    "\n",
    "file_list = glob('/home/ubuntu/ardino/mjjeon/nsynth-pytorch/data/nsynth-train/audio/*.wav') \\\n",
    "            + glob('/home/ubuntu/ardino/mjjeon/nsynth-pytorch/data/nsynth-test/audio/*.wav')\n",
    "\n",
    "\n",
    "\n",
    "for file in file_list:\n",
    "    sample_rate, data = wavfile.read(file)\n",
    "    \n",
    "    print(f\"{file}: number of channels = {data.shape}, sample_rate = {sample_rate}\")"
   ]
  },
  {
   "cell_type": "markdown",
   "metadata": {},
   "source": [
    "stereo to mono"
   ]
  },
  {
   "cell_type": "code",
   "execution_count": 40,
   "metadata": {},
   "outputs": [
    {
     "name": "stdout",
     "output_type": "stream",
     "text": [
      "Collecting pydub\n",
      "  Downloading pydub-0.25.1-py2.py3-none-any.whl (32 kB)\n",
      "Installing collected packages: pydub\n",
      "Successfully installed pydub-0.25.1\n"
     ]
    }
   ],
   "source": [
    "!pip install pydub"
   ]
  },
  {
   "cell_type": "code",
   "execution_count": 42,
   "metadata": {},
   "outputs": [],
   "source": [
    "from pydub import AudioSegment\n",
    "\n",
    "for f in glob('/home/ubuntu/ardino/mjjeon/nsynth-pytorch/data/nsynth-test/audio/*.wav'):\n",
    "    sound = AudioSegment.from_wav(f)\n",
    "    sound = sound.set_channels(1)\n",
    "    sound.export(f.split('.')[0] + '_mono.wav', format=\"wav\")"
   ]
  },
  {
   "cell_type": "markdown",
   "metadata": {},
   "source": [
    "make examples.json"
   ]
  },
  {
   "cell_type": "code",
   "execution_count": 36,
   "metadata": {},
   "outputs": [
    {
     "name": "stdout",
     "output_type": "stream",
     "text": [
      "/home/ubuntu/ardino/mjjeon/nsynth-pytorch/data/nsynth-train/audio/2204.wav: number of channels = (5839488,), sample_rate = 44100\n",
      "/home/ubuntu/ardino/mjjeon/nsynth-pytorch/data/nsynth-train/audio/2289.wav: number of channels = (8968320,), sample_rate = 44100\n",
      "/home/ubuntu/ardino/mjjeon/nsynth-pytorch/data/nsynth-train/audio/2288.wav: number of channels = (8455680,), sample_rate = 44100\n",
      "/home/ubuntu/ardino/mjjeon/nsynth-pytorch/data/nsynth-train/audio/2202.wav: number of channels = (7991424,), sample_rate = 44100\n",
      "/home/ubuntu/ardino/mjjeon/nsynth-pytorch/data/nsynth-train/audio/2242.wav: number of channels = (13791744,), sample_rate = 44100\n",
      "/home/ubuntu/ardino/mjjeon/nsynth-pytorch/data/nsynth-train/audio/2243.wav: number of channels = (8553600,), sample_rate = 44100\n",
      "/home/ubuntu/ardino/mjjeon/nsynth-pytorch/data/nsynth-train/audio/2244.wav: number of channels = (9453312,), sample_rate = 44100\n",
      "/home/ubuntu/ardino/mjjeon/nsynth-pytorch/data/nsynth-train/audio/2203.wav: number of channels = (6887808,), sample_rate = 44100\n",
      "/home/ubuntu/ardino/mjjeon/nsynth-pytorch/data/nsynth-train/audio/2241.wav: number of channels = (10681344,), sample_rate = 44100\n"
     ]
    }
   ],
   "source": [
    "import os\n",
    "import json\n",
    "\n",
    "file_list = glob('/home/ubuntu/ardino/mjjeon/nsynth-pytorch/data/nsynth-train/audio/*.wav')  \n",
    "            \n",
    "dict_list = {}\n",
    "\n",
    "for file in file_list:\n",
    "    sample_rate, data = wavfile.read(file)\n",
    "    \n",
    "    dict_list[os.path.basename(file).split('.')[0]] = {\"sample_rate\" : sample_rate}\n",
    "    \n",
    "    print(f\"{file}: number of channels = {data.shape}, sample_rate = {sample_rate}\")\n",
    "    \n",
    "json_object = json.dumps(dict_list, indent=4)\n",
    "\n",
    "with open('/home/ubuntu/ardino/mjjeon/nsynth-pytorch/data/nsynth-train/examples.json', 'w') as outfile:\n",
    "    outfile.write(json_object)\n",
    "    "
   ]
  },
  {
   "cell_type": "code",
   "execution_count": 43,
   "metadata": {},
   "outputs": [
    {
     "name": "stdout",
     "output_type": "stream",
     "text": [
      "/home/ubuntu/ardino/mjjeon/nsynth-pytorch/data/nsynth-test/audio/sample_flute_mono.wav: number of channels = (1302646,), sample_rate = 44100\n",
      "/home/ubuntu/ardino/mjjeon/nsynth-pytorch/data/nsynth-test/audio/sample_violin_mono.wav: number of channels = (1302646,), sample_rate = 44100\n"
     ]
    }
   ],
   "source": [
    "import os\n",
    "import json\n",
    "\n",
    "file_list = glob('/home/ubuntu/ardino/mjjeon/nsynth-pytorch/data/nsynth-test/audio/*_mono.wav')  \n",
    "            \n",
    "dict_list = {}\n",
    "\n",
    "for file in file_list:\n",
    "    sample_rate, data = wavfile.read(file)\n",
    "    \n",
    "    dict_list[os.path.basename(file).split('.')[0]] = {\"sample_rate\" : sample_rate}\n",
    "    \n",
    "    print(f\"{file}: number of channels = {data.shape}, sample_rate = {sample_rate}\")\n",
    "    \n",
    "json_object = json.dumps(dict_list, indent=4)\n",
    "\n",
    "with open('/home/ubuntu/ardino/mjjeon/nsynth-pytorch/data/nsynth-test/examples.json', 'w') as outfile:\n",
    "    outfile.write(json_object)\n",
    "    "
   ]
  },
  {
   "cell_type": "code",
   "execution_count": 45,
   "metadata": {},
   "outputs": [
    {
     "name": "stdout",
     "output_type": "stream",
     "text": [
      "['/home/ubuntu/ardino/mjjeon/nsynth-pytorch', '/usr/lib/python38.zip', '/usr/lib/python3.8', '/usr/lib/python3.8/lib-dynload', '/home/ubuntu/.local/lib/python3.8/site-packages', '/usr/local/lib/python3.8/dist-packages', '/usr/lib/python3/dist-packages', '/home/ubuntu/ardino/mjjeon/nsynth-pytorch/nsynth', '/home/ubuntu/ardino/mjjeon/nsynth-pytorch', '/home/ubuntu/ardino/mjjeon/nsynth-pytorch/nsynth', '/home/ubuntu/ardino/mjjeon/nsynth-pytorch']\n",
      "make model is done.\n",
      "Loading NSynth data from split train at /home/ubuntu/ardino/mjjeon/nsynth-pytorch/data/nsynth-train\n",
      "\tFound 9 samples.\n",
      "Loading NSynth data from split test at /home/ubuntu/ardino/mjjeon/nsynth-pytorch/data/nsynth-test\n",
      "\tFound 2 samples.\n",
      "make loaders is done.\n",
      "train start!\n",
      "train until  250000\n",
      "/home/ubuntu/.local/lib/python3.8/site-packages/torch/optim/lr_scheduler.py:149: UserWarning: The epoch parameter in `scheduler.step()` was not necessary and is being deprecated where possible. Please use `scheduler.step()` to step the scheduler. During the deprecation, if epoch is different from None, the closed form is used instead of the new chainable form, where available. Please open an issue if you are unable to replicate your use case: https://github.com/pytorch/pytorch/issues/new/choose.\n",
      "  warnings.warn(EPOCH_DEPRECATION_WARNING, UserWarning)\n",
      "it=         0\t\tLoss/train:5.989e+00\tTime/train:6.524e+00\tLR:1.000e-03\n",
      "torch.Size([2, 256, 6144])\n",
      "Traceback (most recent call last):\n",
      "  File \"/home/ubuntu/ardino/mjjeon/nsynth-pytorch/train.py\", line 34, in <module>\n",
      "    main(make_config('train').parse_args())\n",
      "  File \"/home/ubuntu/ardino/mjjeon/nsynth-pytorch/train.py\", line 19, in main\n",
      "    train(model=model,\n",
      "  File \"/home/ubuntu/ardino/mjjeon/nsynth-pytorch/nsynth/training.py\", line 123, in train\n",
      "    if logits:\n",
      "RuntimeError: Boolean value of Tensor with more than one value is ambiguous\n"
     ]
    }
   ],
   "source": [
    "!python /home/ubuntu/ardino/mjjeon/nsynth-pytorch/train.py --gpu 0 --datadir /home/ubuntu/ardino/mjjeon/nsynth-pytorch/data --nbatch=32"
   ]
  },
  {
   "cell_type": "code",
   "execution_count": 55,
   "metadata": {},
   "outputs": [
    {
     "name": "stdout",
     "output_type": "stream",
     "text": [
      "['/home/ubuntu/ardino/mjjeon/nsynth-pytorch', '/usr/lib/python38.zip', '/usr/lib/python3.8', '/usr/lib/python3.8/lib-dynload', '/home/ubuntu/.local/lib/python3.8/site-packages', '/usr/local/lib/python3.8/dist-packages', '/usr/lib/python3/dist-packages', '/home/ubuntu/ardino/mjjeon/nsynth-pytorch/nsynth', '/home/ubuntu/ardino/mjjeon/nsynth-pytorch', '/home/ubuntu/ardino/mjjeon/nsynth-pytorch/nsynth', '/home/ubuntu/ardino/mjjeon/nsynth-pytorch']\n",
      "make model is done.\n",
      "Loading NSynth data from split train at /home/ubuntu/ardino/mjjeon/nsynth-pytorch/data/nsynth-train\n",
      "\tFound 9 samples.\n",
      "Loading NSynth data from split test at /home/ubuntu/ardino/mjjeon/nsynth-pytorch/data/nsynth-test\n",
      "\tFound 2 samples.\n",
      "make loaders is done.\n",
      "train start!\n",
      "\n",
      "Using device: cuda:0\n",
      "train until  250000\n",
      "/home/ubuntu/.local/lib/python3.8/site-packages/torch/optim/lr_scheduler.py:149: UserWarning: The epoch parameter in `scheduler.step()` was not necessary and is being deprecated where possible. Please use `scheduler.step()` to step the scheduler. During the deprecation, if epoch is different from None, the closed form is used instead of the new chainable form, where available. Please open an issue if you are unable to replicate your use case: https://github.com/pytorch/pytorch/issues/new/choose.\n",
      "  warnings.warn(EPOCH_DEPRECATION_WARNING, UserWarning)\n",
      "it=         0\t\tLoss/train:4.661e+03\tTime/train:6.009e+00\tLR:1.000e-03\n",
      "SAVE THE MODEL\n",
      "TEST THE MODEL\n",
      "it=         0\t\tLoss/test:7.640e+01\tTime/test:3.022e+00\n",
      "/home/ubuntu/.local/lib/python3.8/site-packages/torch/optim/lr_scheduler.py:149: UserWarning: The epoch parameter in `scheduler.step()` was not necessary and is being deprecated where possible. Please use `scheduler.step()` to step the scheduler. During the deprecation, if epoch is different from None, the closed form is used instead of the new chainable form, where available. Please open an issue if you are unable to replicate your use case: https://github.com/pytorch/pytorch/issues/new/choose.\n",
      "  warnings.warn(EPOCH_DEPRECATION_WARNING, UserWarning)\n",
      "it=        20\t\tLoss/train:1.256e+02\tTime/train:5.153e+00\tLR:1.000e-03\n",
      "^C\n"
     ]
    }
   ],
   "source": [
    "!python /home/ubuntu/ardino/mjjeon/nsynth-pytorch/train.py --gpu 0 --datadir /home/ubuntu/ardino/mjjeon/nsynth-pytorch/data --nbatch=32 --vae --board"
   ]
  },
  {
   "cell_type": "code",
   "execution_count": null,
   "metadata": {},
   "outputs": [],
   "source": []
  }
 ],
 "metadata": {
  "kernelspec": {
   "display_name": "Python 3",
   "language": "python",
   "name": "python3"
  },
  "language_info": {
   "codemirror_mode": {
    "name": "ipython",
    "version": 3
   },
   "file_extension": ".py",
   "mimetype": "text/x-python",
   "name": "python",
   "nbconvert_exporter": "python",
   "pygments_lexer": "ipython3",
   "version": "3.8.10"
  }
 },
 "nbformat": 4,
 "nbformat_minor": 2
}
